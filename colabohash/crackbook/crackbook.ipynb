{
 "cells": [
  {
   "cell_type": "markdown",
   "metadata": {},
   "source": [
    "# Colabocat - Hashcat runtime in Google Colaboratory"
   ]
  },
  {
   "cell_type": "code",
   "execution_count": null,
   "metadata": {},
   "outputs": [],
   "source": [
    "## Dependencies (Mainly for callabcks)\n",
    "!pip install requests"
   ]
  },
  {
   "cell_type": "code",
   "execution_count": null,
   "metadata": {},
   "outputs": [],
   "source": [
    "HASHCAT_CMD = \"{{ HASHCAT_CMD }}\""
   ]
  },
  {
   "cell_type": "code",
   "execution_count": null,
   "metadata": {},
   "outputs": [],
   "source": [
    "!nvidia-smi"
   ]
  },
  {
   "cell_type": "code",
   "execution_count": null,
   "metadata": {},
   "outputs": [],
   "source": [
    "import os, re\n",
    "import urllib.request\n",
    "\n",
    "def find_urls(string):\n",
    "  regex = r\"(?i)\\b((?:https?://|www\\d{0,3}[.]|[a-z0-9.\\-]+[.][a-z]{2,4}/)(?:[^\\s()<>]+|\\(([^\\s()<>]+|(\\([^\\s()<>]+\\)))*\\))+(?:\\(([^\\s()<>]+|(\\([^\\s()<>]+\\)))*\\)|[^\\s`!()\\[\\]{};:'\\\".,<>?«»“”‘’]))\"\n",
    "  url = re.findall(regex,string)\n",
    "  return [x[0] for x in url]\n",
    "\n",
    "def download_file(url):\n",
    "  filename = \"\".join(\"%02x\" % b for b in os.urandom(10))\n",
    "  fullpath = f\"/root/.hashcat/hashes/{filename}\"\n",
    "  urllib.request.urlretrieve(url, fullpath)\n",
    "  return fullpath\n",
    "\n",
    "def localize_hashcat_cmd(cmd):\n",
    "  os.makedirs(\"/root/.hashcat/hashes/\", exist_ok=True)\n",
    "  for url in find_urls(cmd):\n",
    "    localized_path = download_file(url)\n",
    "    cmd = cmd.replace(url, localized_path)\n",
    "  return cmd    \n",
    "\n",
    "localized_hashcat_cmd = localize_hashcat_cmd(HASHCAT_CMD)"
   ]
  },
  {
   "cell_type": "code",
   "execution_count": null,
   "metadata": {},
   "outputs": [],
   "source": [
    "callback = \"\"\"\n",
    "import requests\n",
    "import json\n",
    "import re\n",
    "\n",
    "def escape_ansi(line):\n",
    "    ansi_escape =re.compile(r'(\\\\x9B|\\\\x1B\\[)[0-?]*[ -\\/]*[@-~]')\n",
    "    return ansi_escape.sub('', line)\n",
    "\n",
    "EMBED_LIMIT = 2048 - 500\n",
    "\n",
    "url = \"{{ DISCORD_WEBHOOK_URL }}\"\n",
    "cmd = \\\"\\\"\\\"{{ HASHCAT_CMD }}\\\"\\\"\\\"\n",
    "\n",
    "data = {}\n",
    "data[\"content\"] = \"\"\n",
    "data[\"username\"] = \"ColaboHash\"\n",
    "\n",
    "\n",
    "results = None\n",
    "with open(\"/content/results.txt\", \"r\") as f:\n",
    "    results = f.readlines()\n",
    "\n",
    "paginated_results = []\n",
    "page = \"\"\n",
    "for l in results:\n",
    "    l = escape_ansi(l)\n",
    "    if len(page) + len(l) >= EMBED_LIMIT:\n",
    "        paginated_results.append(page)\n",
    "        page = \"\"\n",
    "    page += l\n",
    "paginated_results.append(page)\n",
    "\n",
    "for idx, page in enumerate(paginated_results):\n",
    "    \n",
    "    data[\"embeds\"] = []\n",
    "\n",
    "    embed = {}\n",
    "    embed[\"title\"] = \"ColaboHash Results\"\n",
    "    embed[\"url\"] = \"https://github.com/apogiatzis/colabohash\"\n",
    "    embed[\"thumbnail\"] = {\"url\": \"https://i.ibb.co/dJ7x7ZH/colabohash400x218.png\"}\n",
    "    embed[\"description\"] = \"**Command**: {0}\\\\n\\\\n```{1}```\".format(cmd, page)\n",
    "    embed[\"footer\"] = {\n",
    "        \"text\": \"Page {0}/{1}\".format(idx+1, len(paginated_results))\n",
    "    }\n",
    "\n",
    "    data[\"embeds\"].append(embed)\n",
    "    \n",
    "    result = requests.post(url, data=json.dumps(data), headers={\"Content-Type\": \"application/json\"})\n",
    "\n",
    "    try:\n",
    "        result.raise_for_status()\n",
    "    except requests.exceptions.HTTPError as err:\n",
    "        print(err)\n",
    "\"\"\"\n",
    "\n",
    "\n",
    "with open(\"/content/callback.py\", \"w\") as f:\n",
    "    f.write(callback)"
   ]
  },
  {
   "cell_type": "code",
   "execution_count": null,
   "metadata": {},
   "outputs": [],
   "source": [
    "hashcat_script = \"\"\"\n",
    "#!/bin/bash\n",
    "\n",
    "{0} > results.txt\n",
    "\n",
    "python /content/callback.py\n",
    "\n",
    "{% if TERMINATE_ON_FINISH %}\n",
    "jupyter notebook stop 9000\n",
    "{% endif %}\n",
    "\"\"\".format(localized_hashcat_cmd)\n",
    "\n",
    "with open(\"/content/hashcat_script.sh\", \"w\") as f:\n",
    "    f.write(hashcat_script)\n",
    "\n",
    "!chmod +x /content/hashcat_script.sh"
   ]
  },
  {
   "cell_type": "code",
   "execution_count": null,
   "metadata": {},
   "outputs": [],
   "source": [
    "# Clone, build and install Hashcat\n",
    "!apt install cmake build-essential -y\n",
    "!apt install checkinstall git -y\n",
    "!git clone https://github.com/hashcat/hashcat.git\n",
    "!cd hashcat && git submodule update --init && make && make install"
   ]
  },
  {
   "cell_type": "code",
   "execution_count": null,
   "metadata": {},
   "outputs": [],
   "source": [
    "!nohup /content/hashcat_script.sh &"
   ]
  },
  {
   "cell_type": "code",
   "execution_count": null,
   "metadata": {},
   "outputs": [],
   "source": [
    "## Keep NB Alive (12 hours)\n",
    "\n",
    "!read"
   ]
  }
 ],
 "metadata": {
  "language_info": {
   "codemirror_mode": {
    "name": "ipython",
    "version": 3
   },
   "file_extension": ".py",
   "mimetype": "text/x-python",
   "name": "python",
   "nbconvert_exporter": "python",
   "pygments_lexer": "ipython3",
   "version": 3
  },
  "orig_nbformat": 2
 },
 "nbformat": 4,
 "nbformat_minor": 2
}